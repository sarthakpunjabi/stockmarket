{
 "cells": [
  {
   "cell_type": "code",
   "execution_count": null,
   "metadata": {
    "id": "_xKST8zhOqfm"
   },
   "outputs": [],
   "source": [
    "!pip install tweepy\n",
    "import tweepy\n",
    "import pandas as pd"
   ]
  },
  {
   "cell_type": "code",
   "execution_count": null,
   "metadata": {
    "id": "c1qXwV_dO4tQ"
   },
   "outputs": [],
   "source": [
    "def tweepy_search(words):\n",
    "    \n",
    "    # Keys and Tokens for auth: (Masking Keys and Tokens as this is confidential)\n",
    "    consumer_key = \"xxxxxxxxxxxxxxxxxxxxxxxxxxxxxxxxxxxxxxxx\"\n",
    "    consumer_secret = \"xxxxxxxxxxxxxxxxxxxxxxxxxxxxxxxxxxxxxxxx\"\n",
    "    access_token = \"xxxxxxx-xxxxxxxxxxxxxxxxxxxxxxxxxxxxxxxxxxxxxxxx\"\n",
    "    access_token_secret = \"xxxxxxxxxxxxxxxxxxxxxxxxxxxxxxxxxxxxxxxx\"\n",
    "\n",
    "    # authorization of consumer key and consumer secret\n",
    "    auth = tweepy.OAuthHandler(consumer_key, consumer_secret)\n",
    "  \n",
    "    # set access to user's access key and access secret\n",
    "    auth.set_access_token(access_token, access_token_secret)\n",
    "\n",
    "    # calling the API\n",
    "    api = tweepy.API(auth, wait_on_rate_limit=True)\n",
    "    \n",
    "    count = 2000\n",
    "    global df\n",
    "    df = pd.DataFrame(columns=['id', 'text'])  # Creating DataFrame with columns\n",
    "    tweets = tweepy.Cursor(api.search, q=words, lang='hi', tweet_mode='extended').items(count)\n",
    "    list_tweets = [tweet for tweet in tweets]\n",
    "         \n",
    "    for tweet in list_tweets:\n",
    "        id = tweet.id\n",
    "\n",
    "        try:\n",
    "            text = tweet.retweeted_status.full_text\n",
    "        except AttributeError:\n",
    "            text = tweet.full_text\n",
    "  \n",
    "        tweets = [id, text]\n",
    "\n",
    "        df.loc[len(df)] = tweets\n",
    "    df['id'] = df['id'].astype(str)      \n",
    "    filename = '1.xlsx'\n",
    "    df.to_excel(filename)       # Exporting DataFrame to a CSV file\n",
    "    pd.set_option('display.max_colwidth', -1)\n",
    "\n",
    "tweepy_search(\"tension ho rhi\")          # Calling the function\n",
    "pd.set_option('display.max_rows', None)\n",
    "df"
   ]
  },
  {
   "cell_type": "code",
   "execution_count": null,
   "metadata": {
    "colab": {
     "base_uri": "https://localhost:8080/"
    },
    "id": "3w4luhX97NFp",
    "outputId": "7b37aeff-99aa-4090-82ad-0b1c0689b702"
   },
   "outputs": [
    {
     "name": "stdout",
     "output_type": "stream",
     "text": [
      "The text of the status is : \n",
      "\n",
      "Holi bahut bahut mubarak ho bhai log @punitdubey @sriharsha @adin_07 @kkgarg @depenshi_c @amazing_sam @nasir_champ @parekhit\n"
     ]
    }
   ],
   "source": [
    "# Keys and Tokens for auth: (Masking Keys and Tokens as this is confidential)\n",
    "consumer_key = \"xxxxxxxxxxxxxxxxxxxxxxxxxxxxxxxxxxxxxxxx\"\n",
    "consumer_secret = \"xxxxxxxxxxxxxxxxxxxxxxxxxxxxxxxxxxxxxxxx\"\n",
    "access_token = \"xxxxxxx-xxxxxxxxxxxxxxxxxxxxxxxxxxxxxxxxxxxxxxxx\"\n",
    "access_token_secret = \"xxxxxxxxxxxxxxxxxxxxxxxxxxxxxxxxxxxxxxxx\"\n",
    "\n",
    "# authorization of consumer key and consumer secret\n",
    "auth = tweepy.OAuthHandler(consumer_key, consumer_secret)\n",
    "\n",
    "# set access to user's access key and access secret\n",
    "auth.set_access_token(access_token, access_token_secret)\n",
    "\n",
    "# calling the api\n",
    "api = tweepy.API(auth, wait_on_rate_limit=True)\n",
    "\n",
    "# the ID of the status\n",
    "id = 9806227513\n",
    "  \n",
    "# fetching the status\n",
    "status = api.get_status(id)\n",
    "  \n",
    "# fetching the text attribute\n",
    "text = status.text \n",
    "  \n",
    "print(\"The text of the status is : \\n\\n\" + text)"
   ]
  },
  {
   "cell_type": "code",
   "execution_count": null,
   "metadata": {
    "id": "kymv83WbV9WB"
   },
   "outputs": [],
   "source": []
  }
 ],
 "metadata": {
  "colab": {
   "collapsed_sections": [],
   "name": "Twitter.ipynb",
   "provenance": []
  },
  "kernelspec": {
   "display_name": "Python 3.9.13 64-bit",
   "language": "python",
   "name": "python3"
  },
  "language_info": {
   "codemirror_mode": {
    "name": "ipython",
    "version": 3
   },
   "file_extension": ".py",
   "mimetype": "text/x-python",
   "name": "python",
   "nbconvert_exporter": "python",
   "pygments_lexer": "ipython3",
   "version": "3.9.13"
  },
  "vscode": {
   "interpreter": {
    "hash": "aee8b7b246df8f9039afb4144a1f6fd8d2ca17a180786b69acc140d282b71a49"
   }
  }
 },
 "nbformat": 4,
 "nbformat_minor": 1
}
