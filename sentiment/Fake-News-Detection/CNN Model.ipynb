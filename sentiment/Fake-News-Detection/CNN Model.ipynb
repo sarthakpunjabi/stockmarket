{
 "cells": [
  {
   "cell_type": "code",
   "execution_count": 1,
   "metadata": {
    "colab": {
     "base_uri": "https://localhost:8080/"
    },
    "id": "1LpRcdADxeV1",
    "outputId": "3af50c02-8c05-42f2-f5f7-0d34d168e073"
   },
   "outputs": [
    {
     "name": "stdout",
     "output_type": "stream",
     "text": [
      "Drive already mounted at /content/drive; to attempt to forcibly remount, call drive.mount(\"/content/drive\", force_remount=True).\n"
     ]
    }
   ],
   "source": [
    "from google.colab import drive\n",
    "drive.mount('/content/drive')"
   ]
  },
  {
   "cell_type": "code",
   "execution_count": 2,
   "metadata": {
    "colab": {
     "base_uri": "https://localhost:8080/"
    },
    "execution": {
     "iopub.execute_input": "2021-12-13T16:16:33.413983Z",
     "iopub.status.busy": "2021-12-13T16:16:33.413742Z",
     "iopub.status.idle": "2021-12-13T16:16:44.301317Z",
     "shell.execute_reply": "2021-12-13T16:16:44.300439Z",
     "shell.execute_reply.started": "2021-12-13T16:16:33.413948Z"
    },
    "id": "kaOrg3y2wR8f",
    "outputId": "5289fd26-39ac-4b1d-d765-862c345477ea"
   },
   "outputs": [
    {
     "name": "stdout",
     "output_type": "stream",
     "text": [
      "Requirement already satisfied: pydotplus in /usr/local/lib/python3.7/dist-packages (2.0.2)\n",
      "Requirement already satisfied: pyparsing>=2.0.1 in /usr/local/lib/python3.7/dist-packages (from pydotplus) (3.0.6)\n",
      "Requirement already satisfied: graphviz in /usr/local/lib/python3.7/dist-packages (0.10.1)\n"
     ]
    }
   ],
   "source": [
    "!pip install pydotplus\n",
    "!pip install graphviz"
   ]
  },
  {
   "cell_type": "code",
   "execution_count": 3,
   "metadata": {
    "_cell_guid": "b1076dfc-b9ad-4769-8c92-a6c4dae69d19",
    "_uuid": "8f2839f25d086af736a60e9eeb907d3b93b6e0e5",
    "execution": {
     "iopub.execute_input": "2021-12-13T16:16:27.449236Z",
     "iopub.status.busy": "2021-12-13T16:16:27.448622Z",
     "iopub.status.idle": "2021-12-13T16:16:33.412032Z",
     "shell.execute_reply": "2021-12-13T16:16:33.411227Z",
     "shell.execute_reply.started": "2021-12-13T16:16:27.449138Z"
    },
    "id": "bNGrvTUswR8c"
   },
   "outputs": [],
   "source": [
    "from __future__ import division, print_function\n",
    "import gensim\n",
    "from gensim import models\n",
    "from keras.callbacks import ModelCheckpoint\n",
    "from keras.layers import Dense, Dropout, Reshape, Flatten, concatenate, Input, Conv1D, GlobalMaxPooling1D, Embedding\n",
    "from keras.layers.recurrent import LSTM\n",
    "from keras.models import Sequential\n",
    "from keras.preprocessing.text import Tokenizer\n",
    "from keras.preprocessing.sequence import pad_sequences\n",
    "from keras.models import Model\n",
    "from sklearn.model_selection import train_test_split\n",
    "from keras.utils.vis_utils import plot_model\n",
    "import wordcloud\n",
    "import numpy as np\n",
    "import pandas as pd\n",
    "import os\n",
    "import collections\n",
    "import re\n",
    "import string\n",
    "import nltk\n",
    "import seaborn as sns\n",
    "import matplotlib.pyplot as plt\n",
    "\n",
    "import warnings\n",
    "warnings.filterwarnings('ignore')\n",
    "warnings.simplefilter('ignore')"
   ]
  },
  {
   "cell_type": "code",
   "execution_count": 4,
   "metadata": {
    "colab": {
     "base_uri": "https://localhost:8080/",
     "height": 206
    },
    "execution": {
     "iopub.execute_input": "2021-12-13T16:16:44.304531Z",
     "iopub.status.busy": "2021-12-13T16:16:44.304232Z",
     "iopub.status.idle": "2021-12-13T16:16:45.827456Z",
     "shell.execute_reply": "2021-12-13T16:16:45.826611Z",
     "shell.execute_reply.started": "2021-12-13T16:16:44.304496Z"
    },
    "id": "xi6uHyXiwR8g",
    "outputId": "786f9c7a-be9c-4345-dccd-ab18b90f2ae0"
   },
   "outputs": [
    {
     "data": {
      "text/html": [
       "<div>\n",
       "<style scoped>\n",
       "    .dataframe tbody tr th:only-of-type {\n",
       "        vertical-align: middle;\n",
       "    }\n",
       "\n",
       "    .dataframe tbody tr th {\n",
       "        vertical-align: top;\n",
       "    }\n",
       "\n",
       "    .dataframe thead th {\n",
       "        text-align: right;\n",
       "    }\n",
       "</style>\n",
       "<table border=\"1\" class=\"dataframe\">\n",
       "  <thead>\n",
       "    <tr style=\"text-align: right;\">\n",
       "      <th></th>\n",
       "      <th>tweets</th>\n",
       "      <th>labels</th>\n",
       "    </tr>\n",
       "  </thead>\n",
       "  <tbody>\n",
       "    <tr>\n",
       "      <th>9160</th>\n",
       "      <td>gujarati fraud kyu hotey hai? pnbscam</td>\n",
       "      <td>3</td>\n",
       "    </tr>\n",
       "    <tr>\n",
       "      <th>9161</th>\n",
       "      <td>saala idhar 7 lakh k car loan k liye bank choo...</td>\n",
       "      <td>3</td>\n",
       "    </tr>\n",
       "    <tr>\n",
       "      <th>9162</th>\n",
       "      <td>mitron nirav modi ji ka relation india k kaun ...</td>\n",
       "      <td>3</td>\n",
       "    </tr>\n",
       "    <tr>\n",
       "      <th>9163</th>\n",
       "      <td>or yahn ek month k education loan ki emi pay n...</td>\n",
       "      <td>2</td>\n",
       "    </tr>\n",
       "    <tr>\n",
       "      <th>9164</th>\n",
       "      <td>jis bank me 500 rupye niklwane k liye ghnto kh...</td>\n",
       "      <td>3</td>\n",
       "    </tr>\n",
       "  </tbody>\n",
       "</table>\n",
       "</div>"
      ],
      "text/plain": [
       "                                                 tweets  labels\n",
       "9160              gujarati fraud kyu hotey hai? pnbscam       3\n",
       "9161  saala idhar 7 lakh k car loan k liye bank choo...       3\n",
       "9162  mitron nirav modi ji ka relation india k kaun ...       3\n",
       "9163  or yahn ek month k education loan ki emi pay n...       2\n",
       "9164  jis bank me 500 rupye niklwane k liye ghnto kh...       3"
      ]
     },
     "execution_count": 4,
     "metadata": {},
     "output_type": "execute_result"
    }
   ],
   "source": [
    "df = pd.read_excel('/content/drive/MyDrive/Datasets/Code Mixed Hindi-English tweets.xlsx')\n",
    "df.drop(['id'], axis=1, inplace=True)\n",
    "df.tail()"
   ]
  },
  {
   "cell_type": "markdown",
   "metadata": {
    "id": "9nUxXzErwR8h"
   },
   "source": [
    "## Labels are as follows:\n",
    "0 - No emotions,\n",
    "1 - Happy,\n",
    "2 - Sad,\n",
    "3 - Angry,\n",
    "4 - Fear,\n",
    "5 - Disgust,\n",
    "6 - Surprise"
   ]
  },
  {
   "cell_type": "code",
   "execution_count": 5,
   "metadata": {
    "colab": {
     "base_uri": "https://localhost:8080/"
    },
    "execution": {
     "iopub.execute_input": "2021-12-13T16:16:45.829901Z",
     "iopub.status.busy": "2021-12-13T16:16:45.829659Z",
     "iopub.status.idle": "2021-12-13T16:16:45.842345Z",
     "shell.execute_reply": "2021-12-13T16:16:45.841644Z",
     "shell.execute_reply.started": "2021-12-13T16:16:45.829875Z"
    },
    "id": "80-Da_JowR8j",
    "outputId": "11307274-3a99-43d8-f390-b88d8a3036be"
   },
   "outputs": [
    {
     "name": "stdout",
     "output_type": "stream",
     "text": [
      "Dataset shape:  (9165, 2)\n"
     ]
    },
    {
     "data": {
      "text/plain": [
       "0    1892\n",
       "3    1763\n",
       "2    1529\n",
       "1    1226\n",
       "5    1147\n",
       "6    1049\n",
       "4     559\n",
       "Name: labels, dtype: int64"
      ]
     },
     "execution_count": 5,
     "metadata": {},
     "output_type": "execute_result"
    }
   ],
   "source": [
    "print(\"Dataset shape: \", df.shape)\n",
    "df['labels'].value_counts()"
   ]
  },
  {
   "cell_type": "markdown",
   "metadata": {
    "id": "TwdPA8XkwR8j"
   },
   "source": [
    "# Cleaning data:"
   ]
  },
  {
   "cell_type": "code",
   "execution_count": 6,
   "metadata": {
    "colab": {
     "base_uri": "https://localhost:8080/",
     "height": 35
    },
    "execution": {
     "iopub.execute_input": "2021-12-13T16:16:45.844386Z",
     "iopub.status.busy": "2021-12-13T16:16:45.843592Z",
     "iopub.status.idle": "2021-12-13T16:16:45.857917Z",
     "shell.execute_reply": "2021-12-13T16:16:45.857154Z",
     "shell.execute_reply.started": "2021-12-13T16:16:45.844338Z"
    },
    "id": "0GOtyPYVwR8k",
    "outputId": "f083d6a7-e064-4e9f-f23e-c42a4b2ae6eb"
   },
   "outputs": [
    {
     "data": {
      "application/vnd.google.colaboratory.intrinsic+json": {
       "type": "string"
      },
      "text/plain": [
       "'!\"#$%&\\'()*+,-./:;<=>?@[\\\\]^_`{|}~'"
      ]
     },
     "execution_count": 6,
     "metadata": {},
     "output_type": "execute_result"
    }
   ],
   "source": [
    "import string\n",
    "string.punctuation"
   ]
  },
  {
   "cell_type": "code",
   "execution_count": 7,
   "metadata": {
    "execution": {
     "iopub.execute_input": "2021-12-13T16:16:45.859842Z",
     "iopub.status.busy": "2021-12-13T16:16:45.859503Z",
     "iopub.status.idle": "2021-12-13T16:16:45.902147Z",
     "shell.execute_reply": "2021-12-13T16:16:45.901514Z",
     "shell.execute_reply.started": "2021-12-13T16:16:45.859807Z"
    },
    "id": "Cwphd8F_wR8l"
   },
   "outputs": [],
   "source": [
    "punctuations_list = string.punctuation\n",
    "def cleaning_punctuations(text):\n",
    "    translator = str.maketrans('', '', punctuations_list)\n",
    "    return text.translate(translator)\n",
    "\n",
    "df['tweets'] = df['tweets'].apply(lambda x: cleaning_punctuations(x))"
   ]
  },
  {
   "cell_type": "code",
   "execution_count": 8,
   "metadata": {
    "execution": {
     "iopub.execute_input": "2021-12-13T16:16:45.903692Z",
     "iopub.status.busy": "2021-12-13T16:16:45.903441Z",
     "iopub.status.idle": "2021-12-13T16:16:45.94645Z",
     "shell.execute_reply": "2021-12-13T16:16:45.945714Z",
     "shell.execute_reply.started": "2021-12-13T16:16:45.903645Z"
    },
    "id": "es0yl9_zwR8l"
   },
   "outputs": [],
   "source": [
    "# Using Hinglish stopwords which contains 1036 words from both English and Hindi languages\n",
    "# Source: https://github.com/TrigonaMinima/HinglishNLP/blob/master/data/assets/stop_hinglish\n",
    "\n",
    "stopwordlist = ['a', 'aadi', 'aaj', 'aap', 'aapne', 'aata', 'aati', 'aaya', 'aaye', 'ab', 'abbe', 'abbey', 'abe', 'abhi', 'able', 'about', 'above', 'accha', 'according', 'accordingly', 'acha', 'achcha', 'across', 'actually', 'after', 'afterwards', 'again', 'against', 'agar', 'ain', 'aint', \"ain't\", 'aisa', 'aise', 'aisi', 'alag', 'all', 'allow', 'allows', 'almost', 'alone', 'along', 'already', 'also', 'although', 'always', 'am', 'among', 'amongst', 'an', 'and', 'andar', 'another', 'any', 'anybody', 'anyhow', 'anyone', 'anything', 'anyway', 'anyways', 'anywhere', 'ap', 'apan', 'apart', 'apna', 'apnaa', 'apne', 'apni', 'appear', 'are', 'aren', 'arent', \"aren't\", 'around', 'arre', 'as', 'aside', 'ask', 'asking', 'at', 'aur', 'avum', 'aya', 'aye', 'baad', 'baar', 'bad', 'bahut', 'bana', 'banae', 'banai', 'banao', 'banaya', 'banaye', 'banayi', 'banda', 'bande', 'bandi', 'bane', 'bani', 'bas', 'bata', 'batao', 'bc', 'be', 'became', 'because', 'become', 'becomes', 'becoming', 'been', 'before', 'beforehand', 'behind', 'being', 'below', 'beside', 'besides', 'best', 'better', 'between', 'beyond', 'bhai', 'bheetar', 'bhi', 'bhitar', 'bht', 'bilkul', 'bohot', 'bol', 'bola', 'bole', 'boli', 'bolo', 'bolta', 'bolte', 'bolti', 'both', 'brief', 'bro', 'btw', 'but', 'by', 'came', 'can', 'cannot', 'cant', \"can't\", 'cause', 'causes', 'certain', 'certainly', 'chahiye', 'chaiye', 'chal', 'chalega', 'chhaiye', 'clearly', \"c'mon\", 'com', 'come', 'comes', 'could', 'couldn', 'couldnt', \"couldn't\", 'd', 'de', 'dede', 'dega', 'degi', 'dekh', 'dekha', 'dekhe', 'dekhi', 'dekho', 'denge', 'dhang', 'di', 'did', 'didn', 'didnt', \"didn't\", 'dijiye', 'diya', 'diyaa', 'diye', 'diyo', 'do', 'does', 'doesn', 'doesnt', \"doesn't\", 'doing', 'done', 'dono', 'dont', \"don't\", 'doosra', 'doosre', 'down', 'downwards', 'dude', 'dunga', 'dungi', 'during', 'dusra', 'dusre', 'dusri', 'dvaara', 'dvara', 'dwaara', 'dwara', 'each', 'edu', 'eg', 'eight', 'either', 'ek', 'else', 'elsewhere', 'enough', 'etc', 'even', 'ever', 'every', 'everybody', 'everyone', 'everything', 'everywhere', 'ex', 'exactly', 'example', 'except', 'far', 'few', 'fifth', 'fir', 'first', 'five', 'followed', 'following', 'follows', 'for', 'forth', 'four', 'from', 'further', 'furthermore', 'gaya', 'gaye', 'gayi', 'get', 'gets', 'getting', 'ghar', 'given', 'gives', 'go', 'goes', 'going', 'gone', 'good', 'got', 'gotten', 'greetings', 'haan', 'had', 'hadd', 'hadn', 'hadnt', \"hadn't\", 'hai', 'hain', 'hamara', 'hamare', 'hamari', 'hamne', 'han', 'happens', 'har', 'hardly', 'has', 'hasn', 'hasnt', \"hasn't\", 'have', 'haven', 'havent', \"haven't\", 'having', 'he', 'hello', 'help', 'hence', 'her', 'here', 'hereafter', 'hereby', 'herein', \"here's\", 'hereupon', 'hers', 'herself', \"he's\", 'hi', 'him', 'himself', 'his', 'hither', 'hm', 'hmm', 'ho', 'hoga', 'hoge', 'hogi', 'hona', 'honaa', 'hone', 'honge', 'hongi', 'honi', 'hopefully', 'hota', 'hotaa', 'hote', 'hoti', 'how', 'howbeit', 'however', 'hoyenge', 'hoyengi', 'hu', 'hua', 'hue', 'huh', 'hui', 'hum', 'humein', 'humne', 'hun', 'huye', 'huyi', 'i', \"i'd\", 'idk', 'ie', 'if', \"i'll\", \"i'm\", 'imo', 'in', 'inasmuch', 'inc', 'inhe', 'inhi', 'inho', 'inka', 'inkaa', 'inke', 'inki', 'inn', 'inner', 'inse', 'insofar', 'into', 'inward', 'is', 'ise', 'isi', 'iska', 'iskaa', 'iske', 'iski', 'isme', 'isn', 'isne', 'isnt', \"isn't\", 'iss', 'isse', 'issi', 'isski', 'it', \"it'd\", \"it'll\", 'itna', 'itne', 'itni', 'itno', 'its', \"it's\", 'itself', 'ityaadi', 'ityadi', \"i've\", 'ja', 'jaa', 'jab', 'jabh', 'jaha', 'jahaan', 'jahan', 'jaisa', 'jaise', 'jaisi', 'jata', 'jayega', 'jidhar', 'jin', 'jinhe', 'jinhi', 'jinho', 'jinhone', 'jinka', 'jinke', 'jinki', 'jinn', 'jis', 'jise', 'jiska', 'jiske', 'jiski', 'jisme', 'jiss', 'jisse', 'jitna', 'jitne', 'jitni', 'jo', 'just', 'jyaada', 'jyada', 'k', 'ka', 'kaafi', 'kab', 'kabhi', 'kafi', 'kaha', 'kahaa', 'kahaan', 'kahan', 'kahi', 'kahin', 'kahte', 'kaisa', 'kaise', 'kaisi', 'kal', 'kam', 'kar', 'kara', 'kare', 'karega', 'karegi', 'karen', 'karenge', 'kari', 'karke', 'karna', 'karne', 'karni', 'karo', 'karta', 'karte', 'karti', 'karu', 'karun', 'karunga', 'karungi', 'kaun', 'kaunsa', 'kayi', 'kch', 'ke', 'keep', 'keeps', 'keh', 'kehte', 'kept', 'khud', 'ki', 'kin', 'kine', 'kinhe', 'kinho', 'kinka', 'kinke', 'kinki', 'kinko', 'kinn', 'kino', 'kis', 'kise', 'kisi', 'kiska', 'kiske', 'kiski', 'kisko', 'kisliye', 'kisne', 'kitna', 'kitne', 'kitni', 'kitno', 'kiya', 'kiye', 'know', 'known', 'knows', 'ko', 'koi', 'kon', 'konsa', 'koyi', 'krna', 'krne', 'kuch', 'kuchch', 'kuchh', 'kul', 'kull', 'kya', 'kyaa', 'kyu', 'kyuki', 'kyun', 'kyunki', 'lagta', 'lagte', 'lagti', 'last', 'lately', 'later', 'le', 'least', 'lekar', 'lekin', 'less', 'lest', 'let', \"let's\", 'li', 'like', 'liked', 'likely', 'little', 'liya', 'liye', 'll', 'lo', 'log', 'logon', 'lol', 'look', 'looking', 'looks', 'ltd', 'lunga', 'm', 'maan', 'maana', 'maane', 'maani', 'maano', 'magar', 'mai', 'main', 'maine', 'mainly', 'mana', 'mane', 'mani', 'mano', 'many', 'mat', 'may', 'maybe', 'me', 'mean', 'meanwhile', 'mein', 'mera', 'mere', 'merely', 'meri', 'might', 'mightn', 'mightnt', \"mightn't\", 'mil', 'mjhe', 'more', 'moreover', 'most', 'mostly', 'much', 'mujhe', 'must', 'mustn', 'mustnt', \"mustn't\", 'my', 'myself', 'na', 'naa', 'naah', 'nahi', 'nahin', 'nai', 'name', 'namely', 'nd', 'ne', 'near', 'nearly', 'necessary', 'neeche', 'need', 'needn', 'neednt', \"needn't\", 'needs', 'neither', 'never', 'nevertheless', 'new', 'next', 'nhi', 'nine', 'no', 'nobody', 'non', 'none', 'noone', 'nope', 'nor', 'normally', 'not', 'nothing', 'novel', 'now', 'nowhere', 'o', 'obviously', 'of', 'off', 'often', 'oh', 'ok', 'okay', 'old', 'on', 'once', 'one', 'ones', 'only', 'onto', 'or', 'other', 'others', 'otherwise', 'ought', 'our', 'ours', 'ourselves', 'out', 'outside', 'over', 'overall', 'own', 'par', 'pata', 'pe', 'pehla', 'pehle', 'pehli', 'people', 'per', 'perhaps', 'phla', 'phle', 'phli', 'placed', 'please', 'plus', 'poora', 'poori', 'provides', 'pura', 'puri', 'q', 'que', 'quite', 'raha', 'rahaa', 'rahe', 'rahi', 'rakh', 'rakha', 'rakhe', 'rakhen', 'rakhi', 'rakho', 'rather', 're', 'really', 'reasonably', 'regarding', 'regardless', 'regards', 'rehte', 'rha', 'rhaa', 'rhe', 'rhi', 'ri', 'right', 's', 'sa', 'saara', 'saare', 'saath', 'sab', 'sabhi', 'sabse', 'sahi', 'said', 'sakta', 'saktaa', 'sakte', 'sakti', 'same', 'sang', 'sara', 'sath', 'saw', 'say', 'saying', 'says', 'se', 'second', 'secondly', 'see', 'seeing', 'seem', 'seemed', 'seeming', 'seems', 'seen', 'self', 'selves', 'sensible', 'sent', 'serious', 'seriously', 'seven', 'several', 'shall', 'shan', 'shant', \"shan't\", 'she', \"she's\", 'should', 'shouldn', 'shouldnt', \"shouldn't\", \"should've\", 'si', 'since', 'six', 'so', 'soch', 'some', 'somebody', 'somehow', 'someone', 'something', 'sometime', 'sometimes', 'somewhat', 'somewhere', 'soon', 'still', 'sub', 'such', 'sup', 'sure', 't', 'tab', 'tabh', 'tak', 'take', 'taken', 'tarah', 'teen', 'teeno', 'teesra', 'teesre', 'teesri', 'tell', 'tends', 'tera', 'tere', 'teri', 'th', 'tha', 'than', 'thank', 'thanks', 'thanx', 'that', \"that'll\", 'thats', \"that's\", 'the', 'theek', 'their', 'theirs', 'them', 'themselves', 'then', 'thence', 'there', 'thereafter', 'thereby', 'therefore', 'therein', 'theres', \"there's\", 'thereupon', 'these', 'they', \"they'd\", \"they'll\", \"they're\", \"they've\", 'thi', 'thik', 'thing', 'think', 'thinking', 'third', 'this', 'tho', 'thoda', 'thodi', 'thorough', 'thoroughly', 'those', 'though', 'thought', 'three', 'through', 'throughout', 'thru', 'thus', 'tjhe', 'to', 'together', 'toh', 'too', 'took', 'toward', 'towards', 'tried', 'tries', 'true', 'truly', 'try', 'trying', 'tu', 'tujhe', 'tum', 'tumhara', 'tumhare', 'tumhari', 'tune', 'twice', 'two', 'um', 'umm', 'un', 'under', 'unhe', 'unhi', 'unho', 'unhone', 'unka', 'unkaa', 'unke', 'unki', 'unko', 'unless', 'unlikely', 'unn', 'unse', 'until', 'unto', 'up', 'upar', 'upon', 'us', 'use', 'used', 'useful', 'uses', 'usi', 'using', 'uska', 'uske', 'usne', 'uss', 'usse', 'ussi', 'usually', 'vaala', 'vaale', 'vaali', 'vahaan', 'vahan', 'vahi', 'vahin', 'vaisa', 'vaise', 'vaisi', 'vala', 'vale', 'vali', 'various', 've', 'very', 'via', 'viz', 'vo', 'waala', 'waale', 'waali', 'wagaira', 'wagairah', 'wagerah', 'waha', 'wahaan', 'wahan', 'wahi', 'wahin', 'waisa', 'waise', 'waisi', 'wala', 'wale', 'wali', 'want', 'wants', 'was', 'wasn', 'wasnt', \"wasn't\", 'way', 'we', \"we'd\", 'well', \"we'll\", 'went', 'were', \"we're\", 'weren', 'werent', \"weren't\", \"we've\", 'what', 'whatever', \"what's\", 'when', 'whence', 'whenever', 'where', 'whereafter', 'whereas', 'whereby', 'wherein', \"where's\", 'whereupon', 'wherever', 'whether', 'which', 'while', 'who', 'whoever', 'whole', 'whom', \"who's\", 'whose', 'why', 'will', 'willing', 'with', 'within', 'without', 'wo', 'woh', 'wohi', 'won', 'wont', \"won't\", 'would', 'wouldn', 'wouldnt', \"wouldn't\", 'y', 'ya', 'yadi', 'yah', 'yaha', 'yahaan', 'yahan', 'yahi', 'yahin', 'ye', 'yeah', 'yeh', 'yehi', 'yes', 'yet', 'you', \"you'd\", \"you'll\", 'your', \"you're\", 'yours', 'yourself', 'yourselves', \"you've\", 'yup']"
   ]
  },
  {
   "cell_type": "code",
   "execution_count": 9,
   "metadata": {
    "execution": {
     "iopub.execute_input": "2021-12-13T16:16:45.947816Z",
     "iopub.status.busy": "2021-12-13T16:16:45.94748Z",
     "iopub.status.idle": "2021-12-13T16:16:46.000957Z",
     "shell.execute_reply": "2021-12-13T16:16:46.000323Z",
     "shell.execute_reply.started": "2021-12-13T16:16:45.94778Z"
    },
    "id": "T8i88R46wR8q"
   },
   "outputs": [],
   "source": [
    "STOPWORDS = set(stopwordlist)\n",
    "def cleaning_stopwords(text):\n",
    "    return \" \".join([word for word in str(text).split() if word not in STOPWORDS])\n",
    "\n",
    "df['tweets'] = df['tweets'].apply(lambda text: cleaning_stopwords(text))"
   ]
  },
  {
   "cell_type": "code",
   "execution_count": 10,
   "metadata": {
    "execution": {
     "iopub.execute_input": "2021-12-13T16:16:46.002801Z",
     "iopub.status.busy": "2021-12-13T16:16:46.002339Z",
     "iopub.status.idle": "2021-12-13T16:16:46.040958Z",
     "shell.execute_reply": "2021-12-13T16:16:46.040337Z",
     "shell.execute_reply.started": "2021-12-13T16:16:46.002767Z"
    },
    "id": "LmwT8wiBwR8r"
   },
   "outputs": [],
   "source": [
    "def cleaning_numbers(text):\n",
    "    return re.sub('[0-9]+', '', text)\n",
    "\n",
    "df['tweets'] = df['tweets'].apply(lambda text: cleaning_numbers(text))"
   ]
  },
  {
   "cell_type": "markdown",
   "metadata": {
    "id": "BoSp9se0wR8r"
   },
   "source": [
    "### Plotting Word Cloud:"
   ]
  },
  {
   "cell_type": "code",
   "execution_count": 11,
   "metadata": {
    "colab": {
     "base_uri": "https://localhost:8080/",
     "height": 198
    },
    "id": "5oYxYZ3ywR8s",
    "outputId": "a9e642aa-c741-47b2-d9c1-689288b6bc1d"
   },
   "outputs": [
    {
     "data": {
      "image/png": "[encoded data removed]",
      "text/plain": [
       "<Figure size 432x288 with 1 Axes>"
      ]
     },
     "metadata": {
      "needs_background": "light"
     },
     "output_type": "display_data"
    }
   ],
   "source": [
    "common_words=''\n",
    "for i in df.tweets:\n",
    "    i = str(i)\n",
    "    tokens = i.split()\n",
    "    common_words += \" \".join(tokens)+\" \"\n",
    "wordcloud = wordcloud.WordCloud().generate(common_words)\n",
    "plt.imshow(wordcloud, interpolation='bilinear')\n",
    "plt.axis(\"off\")\n",
    "plt.show()"
   ]
  },
  {
   "cell_type": "markdown",
   "metadata": {
    "id": "8btEUu0WwR8s"
   },
   "source": [
    "### Tokenizing Tweets"
   ]
  },
  {
   "cell_type": "code",
   "execution_count": 12,
   "metadata": {
    "colab": {
     "base_uri": "https://localhost:8080/",
     "height": 241
    },
    "execution": {
     "iopub.execute_input": "2021-12-13T16:16:46.043906Z",
     "iopub.status.busy": "2021-12-13T16:16:46.043657Z",
     "iopub.status.idle": "2021-12-13T16:16:47.825137Z",
     "shell.execute_reply": "2021-12-13T16:16:47.82446Z",
     "shell.execute_reply.started": "2021-12-13T16:16:46.043875Z"
    },
    "id": "pBDIZ8Q4wR8s",
    "outputId": "bf59ef56-dca8-47f6-9828-efb34629749c"
   },
   "outputs": [
    {
     "name": "stdout",
     "output_type": "stream",
     "text": [
      "[nltk_data] Downloading package punkt to /root/nltk_data...\n",
      "[nltk_data]   Package punkt is already up-to-date!\n"
     ]
    },
    {
     "data": {
      "text/html": [
       "<div>\n",
       "<style scoped>\n",
       "    .dataframe tbody tr th:only-of-type {\n",
       "        vertical-align: middle;\n",
       "    }\n",
       "\n",
       "    .dataframe tbody tr th {\n",
       "        vertical-align: top;\n",
       "    }\n",
       "\n",
       "    .dataframe thead th {\n",
       "        text-align: right;\n",
       "    }\n",
       "</style>\n",
       "<table border=\"1\" class=\"dataframe\">\n",
       "  <thead>\n",
       "    <tr style=\"text-align: right;\">\n",
       "      <th></th>\n",
       "      <th>tweets</th>\n",
       "      <th>labels</th>\n",
       "      <th>tokens</th>\n",
       "    </tr>\n",
       "  </thead>\n",
       "  <tbody>\n",
       "    <tr>\n",
       "      <th>0</th>\n",
       "      <td>khel khatam england cricket youtube channel ja...</td>\n",
       "      <td>0</td>\n",
       "      <td>[khel, khatam, england, cricket, youtube, chan...</td>\n",
       "    </tr>\n",
       "    <tr>\n",
       "      <th>1</th>\n",
       "      <td>purana manjan bech</td>\n",
       "      <td>5</td>\n",
       "      <td>[purana, manjan, bech]</td>\n",
       "    </tr>\n",
       "    <tr>\n",
       "      <th>2</th>\n",
       "      <td>disappointed ni</td>\n",
       "      <td>0</td>\n",
       "      <td>[disappointed, ni]</td>\n",
       "    </tr>\n",
       "    <tr>\n",
       "      <th>3</th>\n",
       "      <td>tiktok banva batting ni cricket</td>\n",
       "      <td>3</td>\n",
       "      <td>[tiktok, banva, batting, ni, cricket]</td>\n",
       "    </tr>\n",
       "    <tr>\n",
       "      <th>4</th>\n",
       "      <td>cricket tweets lanka lag jaati makes angry</td>\n",
       "      <td>3</td>\n",
       "      <td>[cricket, tweets, lanka, lag, jaati, makes, an...</td>\n",
       "    </tr>\n",
       "  </tbody>\n",
       "</table>\n",
       "</div>"
      ],
      "text/plain": [
       "                                              tweets  ...                                             tokens\n",
       "0  khel khatam england cricket youtube channel ja...  ...  [khel, khatam, england, cricket, youtube, chan...\n",
       "1                                 purana manjan bech  ...                             [purana, manjan, bech]\n",
       "2                                    disappointed ni  ...                                 [disappointed, ni]\n",
       "3                    tiktok banva batting ni cricket  ...              [tiktok, banva, batting, ni, cricket]\n",
       "4         cricket tweets lanka lag jaati makes angry  ...  [cricket, tweets, lanka, lag, jaati, makes, an...\n",
       "\n",
       "[5 rows x 3 columns]"
      ]
     },
     "execution_count": 12,
     "metadata": {},
     "output_type": "execute_result"
    }
   ],
   "source": [
    "nltk.download('punkt')\n",
    "\n",
    "from nltk import word_tokenize\n",
    "tokens = (word_tokenize(i) for i in df.tweets)\n",
    "\n",
    "df['tokens'] = df['tweets'].apply(nltk.word_tokenize)\n",
    "df.head()"
   ]
  },
  {
   "cell_type": "code",
   "execution_count": 13,
   "metadata": {
    "colab": {
     "base_uri": "https://localhost:8080/",
     "height": 424
    },
    "execution": {
     "iopub.execute_input": "2021-12-13T16:16:47.827061Z",
     "iopub.status.busy": "2021-12-13T16:16:47.826223Z",
     "iopub.status.idle": "2021-12-13T16:16:47.845123Z",
     "shell.execute_reply": "2021-12-13T16:16:47.844477Z",
     "shell.execute_reply.started": "2021-12-13T16:16:47.827023Z"
    },
    "id": "9pa5-tXgwR8s",
    "outputId": "71cc6b09-bb72-4958-f886-51709451cee6"
   },
   "outputs": [
    {
     "data": {
      "text/html": [
       "<div>\n",
       "<style scoped>\n",
       "    .dataframe tbody tr th:only-of-type {\n",
       "        vertical-align: middle;\n",
       "    }\n",
       "\n",
       "    .dataframe tbody tr th {\n",
       "        vertical-align: top;\n",
       "    }\n",
       "\n",
       "    .dataframe thead th {\n",
       "        text-align: right;\n",
       "    }\n",
       "</style>\n",
       "<table border=\"1\" class=\"dataframe\">\n",
       "  <thead>\n",
       "    <tr style=\"text-align: right;\">\n",
       "      <th></th>\n",
       "      <th>0</th>\n",
       "      <th>1</th>\n",
       "      <th>2</th>\n",
       "      <th>3</th>\n",
       "      <th>4</th>\n",
       "      <th>5</th>\n",
       "      <th>6</th>\n",
       "    </tr>\n",
       "  </thead>\n",
       "  <tbody>\n",
       "    <tr>\n",
       "      <th>0</th>\n",
       "      <td>1</td>\n",
       "      <td>0</td>\n",
       "      <td>0</td>\n",
       "      <td>0</td>\n",
       "      <td>0</td>\n",
       "      <td>0</td>\n",
       "      <td>0</td>\n",
       "    </tr>\n",
       "    <tr>\n",
       "      <th>1</th>\n",
       "      <td>0</td>\n",
       "      <td>0</td>\n",
       "      <td>0</td>\n",
       "      <td>0</td>\n",
       "      <td>0</td>\n",
       "      <td>1</td>\n",
       "      <td>0</td>\n",
       "    </tr>\n",
       "    <tr>\n",
       "      <th>2</th>\n",
       "      <td>1</td>\n",
       "      <td>0</td>\n",
       "      <td>0</td>\n",
       "      <td>0</td>\n",
       "      <td>0</td>\n",
       "      <td>0</td>\n",
       "      <td>0</td>\n",
       "    </tr>\n",
       "    <tr>\n",
       "      <th>3</th>\n",
       "      <td>0</td>\n",
       "      <td>0</td>\n",
       "      <td>0</td>\n",
       "      <td>1</td>\n",
       "      <td>0</td>\n",
       "      <td>0</td>\n",
       "      <td>0</td>\n",
       "    </tr>\n",
       "    <tr>\n",
       "      <th>4</th>\n",
       "      <td>0</td>\n",
       "      <td>0</td>\n",
       "      <td>0</td>\n",
       "      <td>1</td>\n",
       "      <td>0</td>\n",
       "      <td>0</td>\n",
       "      <td>0</td>\n",
       "    </tr>\n",
       "    <tr>\n",
       "      <th>...</th>\n",
       "      <td>...</td>\n",
       "      <td>...</td>\n",
       "      <td>...</td>\n",
       "      <td>...</td>\n",
       "      <td>...</td>\n",
       "      <td>...</td>\n",
       "      <td>...</td>\n",
       "    </tr>\n",
       "    <tr>\n",
       "      <th>9160</th>\n",
       "      <td>0</td>\n",
       "      <td>0</td>\n",
       "      <td>0</td>\n",
       "      <td>1</td>\n",
       "      <td>0</td>\n",
       "      <td>0</td>\n",
       "      <td>0</td>\n",
       "    </tr>\n",
       "    <tr>\n",
       "      <th>9161</th>\n",
       "      <td>0</td>\n",
       "      <td>0</td>\n",
       "      <td>0</td>\n",
       "      <td>1</td>\n",
       "      <td>0</td>\n",
       "      <td>0</td>\n",
       "      <td>0</td>\n",
       "    </tr>\n",
       "    <tr>\n",
       "      <th>9162</th>\n",
       "      <td>0</td>\n",
       "      <td>0</td>\n",
       "      <td>0</td>\n",
       "      <td>1</td>\n",
       "      <td>0</td>\n",
       "      <td>0</td>\n",
       "      <td>0</td>\n",
       "    </tr>\n",
       "    <tr>\n",
       "      <th>9163</th>\n",
       "      <td>0</td>\n",
       "      <td>0</td>\n",
       "      <td>1</td>\n",
       "      <td>0</td>\n",
       "      <td>0</td>\n",
       "      <td>0</td>\n",
       "      <td>0</td>\n",
       "    </tr>\n",
       "    <tr>\n",
       "      <th>9164</th>\n",
       "      <td>0</td>\n",
       "      <td>0</td>\n",
       "      <td>0</td>\n",
       "      <td>1</td>\n",
       "      <td>0</td>\n",
       "      <td>0</td>\n",
       "      <td>0</td>\n",
       "    </tr>\n",
       "  </tbody>\n",
       "</table>\n",
       "<p>9165 rows × 7 columns</p>\n",
       "</div>"
      ],
      "text/plain": [
       "      0  1  2  3  4  5  6\n",
       "0     1  0  0  0  0  0  0\n",
       "1     0  0  0  0  0  1  0\n",
       "2     1  0  0  0  0  0  0\n",
       "3     0  0  0  1  0  0  0\n",
       "4     0  0  0  1  0  0  0\n",
       "...  .. .. .. .. .. .. ..\n",
       "9160  0  0  0  1  0  0  0\n",
       "9161  0  0  0  1  0  0  0\n",
       "9162  0  0  0  1  0  0  0\n",
       "9163  0  0  1  0  0  0  0\n",
       "9164  0  0  0  1  0  0  0\n",
       "\n",
       "[9165 rows x 7 columns]"
      ]
     },
     "execution_count": 13,
     "metadata": {},
     "output_type": "execute_result"
    }
   ],
   "source": [
    "df1 = pd.get_dummies(df['labels'])\n",
    "df1"
   ]
  },
  {
   "cell_type": "code",
   "execution_count": 14,
   "metadata": {
    "colab": {
     "base_uri": "https://localhost:8080/",
     "height": 424
    },
    "execution": {
     "iopub.execute_input": "2021-12-13T16:16:47.846576Z",
     "iopub.status.busy": "2021-12-13T16:16:47.846337Z",
     "iopub.status.idle": "2021-12-13T16:16:47.86341Z",
     "shell.execute_reply": "2021-12-13T16:16:47.862731Z",
     "shell.execute_reply.started": "2021-12-13T16:16:47.846543Z"
    },
    "id": "Vl_FNYp6wR8t",
    "outputId": "376713b8-6b12-4108-a8b0-0a51439187ea"
   },
   "outputs": [
    {
     "data": {
      "text/html": [
       "<div>\n",
       "<style scoped>\n",
       "    .dataframe tbody tr th:only-of-type {\n",
       "        vertical-align: middle;\n",
       "    }\n",
       "\n",
       "    .dataframe tbody tr th {\n",
       "        vertical-align: top;\n",
       "    }\n",
       "\n",
       "    .dataframe thead th {\n",
       "        text-align: right;\n",
       "    }\n",
       "</style>\n",
       "<table border=\"1\" class=\"dataframe\">\n",
       "  <thead>\n",
       "    <tr style=\"text-align: right;\">\n",
       "      <th></th>\n",
       "      <th>tweets</th>\n",
       "      <th>labels</th>\n",
       "      <th>tokens</th>\n",
       "    </tr>\n",
       "  </thead>\n",
       "  <tbody>\n",
       "    <tr>\n",
       "      <th>0</th>\n",
       "      <td>khel khatam england cricket youtube channel ja...</td>\n",
       "      <td>0</td>\n",
       "      <td>[khel, khatam, england, cricket, youtube, chan...</td>\n",
       "    </tr>\n",
       "    <tr>\n",
       "      <th>1</th>\n",
       "      <td>purana manjan bech</td>\n",
       "      <td>5</td>\n",
       "      <td>[purana, manjan, bech]</td>\n",
       "    </tr>\n",
       "    <tr>\n",
       "      <th>2</th>\n",
       "      <td>disappointed ni</td>\n",
       "      <td>0</td>\n",
       "      <td>[disappointed, ni]</td>\n",
       "    </tr>\n",
       "    <tr>\n",
       "      <th>3</th>\n",
       "      <td>tiktok banva batting ni cricket</td>\n",
       "      <td>3</td>\n",
       "      <td>[tiktok, banva, batting, ni, cricket]</td>\n",
       "    </tr>\n",
       "    <tr>\n",
       "      <th>4</th>\n",
       "      <td>cricket tweets lanka lag jaati makes angry</td>\n",
       "      <td>3</td>\n",
       "      <td>[cricket, tweets, lanka, lag, jaati, makes, an...</td>\n",
       "    </tr>\n",
       "    <tr>\n",
       "      <th>...</th>\n",
       "      <td>...</td>\n",
       "      <td>...</td>\n",
       "      <td>...</td>\n",
       "    </tr>\n",
       "    <tr>\n",
       "      <th>9160</th>\n",
       "      <td>gujarati fraud hotey pnbscam</td>\n",
       "      <td>3</td>\n",
       "      <td>[gujarati, fraud, hotey, pnbscam]</td>\n",
       "    </tr>\n",
       "    <tr>\n",
       "      <th>9161</th>\n",
       "      <td>saala idhar  lakh car loan bank chooos leti cr...</td>\n",
       "      <td>3</td>\n",
       "      <td>[saala, idhar, lakh, car, loan, bank, chooos, ...</td>\n",
       "    </tr>\n",
       "    <tr>\n",
       "      <th>9162</th>\n",
       "      <td>mitron nirav modi ji relation india rich indus...</td>\n",
       "      <td>3</td>\n",
       "      <td>[mitron, nirav, modi, ji, relation, india, ric...</td>\n",
       "    </tr>\n",
       "    <tr>\n",
       "      <th>9163</th>\n",
       "      <td>yahn month education loan emi pay ni call aa p...</td>\n",
       "      <td>2</td>\n",
       "      <td>[yahn, month, education, loan, emi, pay, ni, c...</td>\n",
       "    </tr>\n",
       "    <tr>\n",
       "      <th>9164</th>\n",
       "      <td>bank  rupye niklwane ghnto khda rehna pdta bta...</td>\n",
       "      <td>3</td>\n",
       "      <td>[bank, rupye, niklwane, ghnto, khda, rehna, pd...</td>\n",
       "    </tr>\n",
       "  </tbody>\n",
       "</table>\n",
       "<p>9165 rows × 3 columns</p>\n",
       "</div>"
      ],
      "text/plain": [
       "                                                 tweets  ...                                             tokens\n",
       "0     khel khatam england cricket youtube channel ja...  ...  [khel, khatam, england, cricket, youtube, chan...\n",
       "1                                    purana manjan bech  ...                             [purana, manjan, bech]\n",
       "2                                       disappointed ni  ...                                 [disappointed, ni]\n",
       "3                       tiktok banva batting ni cricket  ...              [tiktok, banva, batting, ni, cricket]\n",
       "4            cricket tweets lanka lag jaati makes angry  ...  [cricket, tweets, lanka, lag, jaati, makes, an...\n",
       "...                                                 ...  ...                                                ...\n",
       "9160                       gujarati fraud hotey pnbscam  ...                  [gujarati, fraud, hotey, pnbscam]\n",
       "9161  saala idhar  lakh car loan bank chooos leti cr...  ...  [saala, idhar, lakh, car, loan, bank, chooos, ...\n",
       "9162  mitron nirav modi ji relation india rich indus...  ...  [mitron, nirav, modi, ji, relation, india, ric...\n",
       "9163  yahn month education loan emi pay ni call aa p...  ...  [yahn, month, education, loan, emi, pay, ni, c...\n",
       "9164  bank  rupye niklwane ghnto khda rehna pdta bta...  ...  [bank, rupye, niklwane, ghnto, khda, rehna, pd...\n",
       "\n",
       "[9165 rows x 3 columns]"
      ]
     },
     "execution_count": 14,
     "metadata": {},
     "output_type": "execute_result"
    }
   ],
   "source": [
    "df2 = df.copy()\n",
    "df2"
   ]
  },
  {
   "cell_type": "code",
   "execution_count": 15,
   "metadata": {
    "colab": {
     "base_uri": "https://localhost:8080/",
     "height": 424
    },
    "execution": {
     "iopub.execute_input": "2021-12-13T16:16:47.86519Z",
     "iopub.status.busy": "2021-12-13T16:16:47.864743Z",
     "iopub.status.idle": "2021-12-13T16:16:47.886199Z",
     "shell.execute_reply": "2021-12-13T16:16:47.885544Z",
     "shell.execute_reply.started": "2021-12-13T16:16:47.865154Z"
    },
    "id": "UfxTArAcwR8t",
    "outputId": "d9186347-a4a5-4744-a523-b25b96f15198"
   },
   "outputs": [
    {
     "data": {
      "text/html": [
       "<div>\n",
       "<style scoped>\n",
       "    .dataframe tbody tr th:only-of-type {\n",
       "        vertical-align: middle;\n",
       "    }\n",
       "\n",
       "    .dataframe tbody tr th {\n",
       "        vertical-align: top;\n",
       "    }\n",
       "\n",
       "    .dataframe thead th {\n",
       "        text-align: right;\n",
       "    }\n",
       "</style>\n",
       "<table border=\"1\" class=\"dataframe\">\n",
       "  <thead>\n",
       "    <tr style=\"text-align: right;\">\n",
       "      <th></th>\n",
       "      <th>tweets</th>\n",
       "      <th>labels</th>\n",
       "      <th>tokens</th>\n",
       "      <th>0</th>\n",
       "      <th>1</th>\n",
       "      <th>2</th>\n",
       "      <th>3</th>\n",
       "      <th>4</th>\n",
       "      <th>5</th>\n",
       "      <th>6</th>\n",
       "    </tr>\n",
       "  </thead>\n",
       "  <tbody>\n",
       "    <tr>\n",
       "      <th>0</th>\n",
       "      <td>khel khatam england cricket youtube channel ja...</td>\n",
       "      <td>0</td>\n",
       "      <td>[khel, khatam, england, cricket, youtube, chan...</td>\n",
       "      <td>1</td>\n",
       "      <td>0</td>\n",
       "      <td>0</td>\n",
       "      <td>0</td>\n",
       "      <td>0</td>\n",
       "      <td>0</td>\n",
       "      <td>0</td>\n",
       "    </tr>\n",
       "    <tr>\n",
       "      <th>1</th>\n",
       "      <td>purana manjan bech</td>\n",
       "      <td>5</td>\n",
       "      <td>[purana, manjan, bech]</td>\n",
       "      <td>0</td>\n",
       "      <td>0</td>\n",
       "      <td>0</td>\n",
       "      <td>0</td>\n",
       "      <td>0</td>\n",
       "      <td>1</td>\n",
       "      <td>0</td>\n",
       "    </tr>\n",
       "    <tr>\n",
       "      <th>2</th>\n",
       "      <td>disappointed ni</td>\n",
       "      <td>0</td>\n",
       "      <td>[disappointed, ni]</td>\n",
       "      <td>1</td>\n",
       "      <td>0</td>\n",
       "      <td>0</td>\n",
       "      <td>0</td>\n",
       "      <td>0</td>\n",
       "      <td>0</td>\n",
       "      <td>0</td>\n",
       "    </tr>\n",
       "    <tr>\n",
       "      <th>3</th>\n",
       "      <td>tiktok banva batting ni cricket</td>\n",
       "      <td>3</td>\n",
       "      <td>[tiktok, banva, batting, ni, cricket]</td>\n",
       "      <td>0</td>\n",
       "      <td>0</td>\n",
       "      <td>0</td>\n",
       "      <td>1</td>\n",
       "      <td>0</td>\n",
       "      <td>0</td>\n",
       "      <td>0</td>\n",
       "    </tr>\n",
       "    <tr>\n",
       "      <th>4</th>\n",
       "      <td>cricket tweets lanka lag jaati makes angry</td>\n",
       "      <td>3</td>\n",
       "      <td>[cricket, tweets, lanka, lag, jaati, makes, an...</td>\n",
       "      <td>0</td>\n",
       "      <td>0</td>\n",
       "      <td>0</td>\n",
       "      <td>1</td>\n",
       "      <td>0</td>\n",
       "      <td>0</td>\n",
       "      <td>0</td>\n",
       "    </tr>\n",
       "    <tr>\n",
       "      <th>...</th>\n",
       "      <td>...</td>\n",
       "      <td>...</td>\n",
       "      <td>...</td>\n",
       "      <td>...</td>\n",
       "      <td>...</td>\n",
       "      <td>...</td>\n",
       "      <td>...</td>\n",
       "      <td>...</td>\n",
       "      <td>...</td>\n",
       "      <td>...</td>\n",
       "    </tr>\n",
       "    <tr>\n",
       "      <th>9160</th>\n",
       "      <td>gujarati fraud hotey pnbscam</td>\n",
       "      <td>3</td>\n",
       "      <td>[gujarati, fraud, hotey, pnbscam]</td>\n",
       "      <td>0</td>\n",
       "      <td>0</td>\n",
       "      <td>0</td>\n",
       "      <td>1</td>\n",
       "      <td>0</td>\n",
       "      <td>0</td>\n",
       "      <td>0</td>\n",
       "    </tr>\n",
       "    <tr>\n",
       "      <th>9161</th>\n",
       "      <td>saala idhar  lakh car loan bank chooos leti cr...</td>\n",
       "      <td>3</td>\n",
       "      <td>[saala, idhar, lakh, car, loan, bank, chooos, ...</td>\n",
       "      <td>0</td>\n",
       "      <td>0</td>\n",
       "      <td>0</td>\n",
       "      <td>1</td>\n",
       "      <td>0</td>\n",
       "      <td>0</td>\n",
       "      <td>0</td>\n",
       "    </tr>\n",
       "    <tr>\n",
       "      <th>9162</th>\n",
       "      <td>mitron nirav modi ji relation india rich indus...</td>\n",
       "      <td>3</td>\n",
       "      <td>[mitron, nirav, modi, ji, relation, india, ric...</td>\n",
       "      <td>0</td>\n",
       "      <td>0</td>\n",
       "      <td>0</td>\n",
       "      <td>1</td>\n",
       "      <td>0</td>\n",
       "      <td>0</td>\n",
       "      <td>0</td>\n",
       "    </tr>\n",
       "    <tr>\n",
       "      <th>9163</th>\n",
       "      <td>yahn month education loan emi pay ni call aa p...</td>\n",
       "      <td>2</td>\n",
       "      <td>[yahn, month, education, loan, emi, pay, ni, c...</td>\n",
       "      <td>0</td>\n",
       "      <td>0</td>\n",
       "      <td>1</td>\n",
       "      <td>0</td>\n",
       "      <td>0</td>\n",
       "      <td>0</td>\n",
       "      <td>0</td>\n",
       "    </tr>\n",
       "    <tr>\n",
       "      <th>9164</th>\n",
       "      <td>bank  rupye niklwane ghnto khda rehna pdta bta...</td>\n",
       "      <td>3</td>\n",
       "      <td>[bank, rupye, niklwane, ghnto, khda, rehna, pd...</td>\n",
       "      <td>0</td>\n",
       "      <td>0</td>\n",
       "      <td>0</td>\n",
       "      <td>1</td>\n",
       "      <td>0</td>\n",
       "      <td>0</td>\n",
       "      <td>0</td>\n",
       "    </tr>\n",
       "  </tbody>\n",
       "</table>\n",
       "<p>9165 rows × 10 columns</p>\n",
       "</div>"
      ],
      "text/plain": [
       "                                                 tweets  labels  ...  5  6\n",
       "0     khel khatam england cricket youtube channel ja...       0  ...  0  0\n",
       "1                                    purana manjan bech       5  ...  1  0\n",
       "2                                       disappointed ni       0  ...  0  0\n",
       "3                       tiktok banva batting ni cricket       3  ...  0  0\n",
       "4            cricket tweets lanka lag jaati makes angry       3  ...  0  0\n",
       "...                                                 ...     ...  ... .. ..\n",
       "9160                       gujarati fraud hotey pnbscam       3  ...  0  0\n",
       "9161  saala idhar  lakh car loan bank chooos leti cr...       3  ...  0  0\n",
       "9162  mitron nirav modi ji relation india rich indus...       3  ...  0  0\n",
       "9163  yahn month education loan emi pay ni call aa p...       2  ...  0  0\n",
       "9164  bank  rupye niklwane ghnto khda rehna pdta bta...       3  ...  0  0\n",
       "\n",
       "[9165 rows x 10 columns]"
      ]
     },
     "execution_count": 15,
     "metadata": {},
     "output_type": "execute_result"
    }
   ],
   "source": [
    "df = pd.concat([df2,df1], axis=1)\n",
    "df"
   ]
  },
  {
   "cell_type": "markdown",
   "metadata": {
    "id": "egCj3pxnwR8t"
   },
   "source": [
    "# Splitting data into train and test:"
   ]
  },
  {
   "cell_type": "code",
   "execution_count": 16,
   "metadata": {
    "colab": {
     "base_uri": "https://localhost:8080/",
     "height": 313
    },
    "execution": {
     "iopub.execute_input": "2021-12-13T16:16:47.887503Z",
     "iopub.status.busy": "2021-12-13T16:16:47.887206Z",
     "iopub.status.idle": "2021-12-13T16:16:48.269766Z",
     "shell.execute_reply": "2021-12-13T16:16:48.268999Z",
     "shell.execute_reply.started": "2021-12-13T16:16:47.887467Z"
    },
    "id": "DIxTe9uxwR8t",
    "outputId": "a1b8eb72-a3f7-4b2a-e713-71a9c52fb131"
   },
   "outputs": [
    {
     "name": "stdout",
     "output_type": "stream",
     "text": [
      "18\n"
     ]
    },
    {
     "data": {
      "image/png": "[encoded data removed]",
      "text/plain": [
       "<Figure size 432x288 with 1 Axes>"
      ]
     },
     "metadata": {
      "needs_background": "light"
     },
     "output_type": "display_data"
    }
   ],
   "source": [
    "data_train, data_test = train_test_split(df, test_size=0.2, random_state=3)\n",
    "X_train = data_train['tweets'].values\n",
    "X_test = data_test['tweets'].values\n",
    "y_train = data_train['labels'].values\n",
    "y_test = data_test['labels'].values\n",
    "\n",
    "data_train['doc_len'] = data_train['tweets'].astype(str).apply(lambda words: len(words.split(\" \")))\n",
    "max_seq_len = np.round(data_train['doc_len'].mean() + data_train['doc_len'].std()).astype(int)\n",
    "print(max_seq_len)\n",
    "sns.distplot(data_train['doc_len'], hist=True, kde=True, color='b', label='doc len')\n",
    "plt.axvline(x=max_seq_len, color='k', linestyle='--', label='max len')\n",
    "plt.title('tweet length'); \n",
    "plt.legend()\n",
    "plt.show()"
   ]
  },
  {
   "cell_type": "code",
   "execution_count": 17,
   "metadata": {
    "colab": {
     "base_uri": "https://localhost:8080/"
    },
    "execution": {
     "iopub.execute_input": "2021-12-13T16:16:48.271505Z",
     "iopub.status.busy": "2021-12-13T16:16:48.271096Z",
     "iopub.status.idle": "2021-12-13T16:16:48.303766Z",
     "shell.execute_reply": "2021-12-13T16:16:48.302967Z",
     "shell.execute_reply.started": "2021-12-13T16:16:48.271466Z"
    },
    "id": "gFJUbRmZwR8u",
    "outputId": "be98ffc4-7e0d-46a3-e693-b09fdb694560"
   },
   "outputs": [
    {
     "name": "stdout",
     "output_type": "stream",
     "text": [
      "81292 words total, with a vocabulary size of 18519\n",
      "Max sentence length is 41\n"
     ]
    }
   ],
   "source": [
    "all_training_words = [word for tokens in data_train[\"tokens\"] for word in tokens]\n",
    "training_sentence_lengths = [len(tokens) for tokens in data_train[\"tokens\"]]\n",
    "TRAINING_VOCAB = sorted(list(set(all_training_words)))\n",
    "print(\"%s words total, with a vocabulary size of %s\" % (len(all_training_words), len(TRAINING_VOCAB)))\n",
    "print(\"Max sentence length is %s\" % max(training_sentence_lengths))"
   ]
  },
  {
   "cell_type": "code",
   "execution_count": 18,
   "metadata": {
    "colab": {
     "base_uri": "https://localhost:8080/"
    },
    "execution": {
     "iopub.execute_input": "2021-12-13T16:16:48.304866Z",
     "iopub.status.busy": "2021-12-13T16:16:48.304642Z",
     "iopub.status.idle": "2021-12-13T16:16:48.322155Z",
     "shell.execute_reply": "2021-12-13T16:16:48.321372Z",
     "shell.execute_reply.started": "2021-12-13T16:16:48.304841Z"
    },
    "id": "G04JumoZwR8u",
    "outputId": "1dfd6e3c-00b6-41db-a356-8c6505509483"
   },
   "outputs": [
    {
     "name": "stdout",
     "output_type": "stream",
     "text": [
      "20342 words total, with a vocabulary size of 7302\n",
      "Max sentence length is 37\n"
     ]
    }
   ],
   "source": [
    "all_test_words = [word for tokens in data_test[\"tokens\"] for word in tokens]\n",
    "test_sentence_lengths = [len(tokens) for tokens in data_test[\"tokens\"]]\n",
    "TEST_VOCAB = sorted(list(set(all_test_words)))\n",
    "print(\"%s words total, with a vocabulary size of %s\" % (len(all_test_words), len(TEST_VOCAB)))\n",
    "print(\"Max sentence length is %s\" % max(test_sentence_lengths))"
   ]
  },
  {
   "cell_type": "code",
   "execution_count": 19,
   "metadata": {
    "execution": {
     "iopub.execute_input": "2021-12-13T16:16:48.324869Z",
     "iopub.status.busy": "2021-12-13T16:16:48.324376Z",
     "iopub.status.idle": "2021-12-13T16:18:31.217187Z",
     "shell.execute_reply": "2021-12-13T16:18:31.216211Z",
     "shell.execute_reply.started": "2021-12-13T16:16:48.324831Z"
    },
    "id": "qPQhkNurwR8u"
   },
   "outputs": [],
   "source": [
    "word2vec_path = 'https://s3.amazonaws.com/dl4j-distribution/GoogleNews-vectors-negative300.bin.gz'\n",
    "word2vec = models.KeyedVectors.load_word2vec_format(word2vec_path, binary=True)"
   ]
  },
  {
   "cell_type": "code",
   "execution_count": 20,
   "metadata": {
    "execution": {
     "iopub.execute_input": "2021-12-13T16:18:31.21868Z",
     "iopub.status.busy": "2021-12-13T16:18:31.218419Z",
     "iopub.status.idle": "2021-12-13T16:18:31.228188Z",
     "shell.execute_reply": "2021-12-13T16:18:31.227323Z",
     "shell.execute_reply.started": "2021-12-13T16:18:31.218643Z"
    },
    "id": "5m00c2wbwR8u"
   },
   "outputs": [],
   "source": [
    "def get_average_word2vec(tokens_list, vector, generate_missing=False, k=300):\n",
    "    if len(tokens_list)<1:\n",
    "        return np.zeros(k)\n",
    "    if generate_missing:\n",
    "        vectorized = [vector[word] if word in vector else np.random.rand(k) for word in tokens_list]\n",
    "    else:\n",
    "        vectorized = [vector[word] if word in vector else np.zeros(k) for word in tokens_list]\n",
    "    length = len(vectorized)\n",
    "    summed = np.sum(vectorized, axis=0)\n",
    "    averaged = np.divide(summed, length)\n",
    "    return averaged\n",
    "\n",
    "def get_word2vec_embeddings(vectors, clean_comments, generate_missing=False):\n",
    "    embeddings = clean_comments['tokens'].apply(lambda x: get_average_word2vec(x, vectors, \n",
    "                                                                                generate_missing=generate_missing))\n",
    "    return list(embeddings)"
   ]
  },
  {
   "cell_type": "code",
   "execution_count": 21,
   "metadata": {
    "execution": {
     "iopub.execute_input": "2021-12-13T16:18:31.229839Z",
     "iopub.status.busy": "2021-12-13T16:18:31.229329Z",
     "iopub.status.idle": "2021-12-13T16:18:31.750218Z",
     "shell.execute_reply": "2021-12-13T16:18:31.749355Z",
     "shell.execute_reply.started": "2021-12-13T16:18:31.229793Z"
    },
    "id": "YHqrjT3XwR8v"
   },
   "outputs": [],
   "source": [
    "training_embeddings = get_word2vec_embeddings(word2vec, data_train, generate_missing=True)\n",
    "MAX_SEQUENCE_LENGTH = 50\n",
    "EMBEDDING_DIM = 300"
   ]
  },
  {
   "cell_type": "markdown",
   "metadata": {
    "id": "XCETkueUwR8v"
   },
   "source": [
    "## Pad sequences - Padding input sequence to make shape and size each tweets equal"
   ]
  },
  {
   "cell_type": "code",
   "execution_count": 22,
   "metadata": {
    "colab": {
     "base_uri": "https://localhost:8080/"
    },
    "execution": {
     "iopub.execute_input": "2021-12-13T16:18:31.752128Z",
     "iopub.status.busy": "2021-12-13T16:18:31.751848Z",
     "iopub.status.idle": "2021-12-13T16:18:32.087077Z",
     "shell.execute_reply": "2021-12-13T16:18:32.086338Z",
     "shell.execute_reply.started": "2021-12-13T16:18:31.752091Z"
    },
    "id": "6YVEoz2mwR8v",
    "outputId": "f8abd5ad-3562-4654-ce21-3ef143239ccc"
   },
   "outputs": [
    {
     "name": "stdout",
     "output_type": "stream",
     "text": [
      "Found 18520 unique tokens.\n"
     ]
    }
   ],
   "source": [
    "tokenizer = Tokenizer(num_words=len(TRAINING_VOCAB), lower=True, char_level=False)\n",
    "tokenizer.fit_on_texts(data_train[\"tweets\"].tolist())\n",
    "training_sequences = tokenizer.texts_to_sequences(data_train[\"tweets\"].tolist())\n",
    "\n",
    "train_word_index = tokenizer.word_index\n",
    "print('Found %s unique tokens.' % len(train_word_index))"
   ]
  },
  {
   "cell_type": "code",
   "execution_count": 23,
   "metadata": {
    "execution": {
     "iopub.execute_input": "2021-12-13T16:18:32.090438Z",
     "iopub.status.busy": "2021-12-13T16:18:32.089849Z",
     "iopub.status.idle": "2021-12-13T16:18:32.160705Z",
     "shell.execute_reply": "2021-12-13T16:18:32.159892Z",
     "shell.execute_reply.started": "2021-12-13T16:18:32.090407Z"
    },
    "id": "nq12uXUzwR8v"
   },
   "outputs": [],
   "source": [
    "train_cnn_data = pad_sequences(training_sequences, maxlen=MAX_SEQUENCE_LENGTH)"
   ]
  },
  {
   "cell_type": "markdown",
   "metadata": {},
   "source": [
    "### Calculating embedding dimension"
   ]
  },
  {
   "cell_type": "code",
   "execution_count": 24,
   "metadata": {
    "colab": {
     "base_uri": "https://localhost:8080/"
    },
    "execution": {
     "iopub.execute_input": "2021-12-13T16:18:32.162414Z",
     "iopub.status.busy": "2021-12-13T16:18:32.162152Z",
     "iopub.status.idle": "2021-12-13T16:18:32.309961Z",
     "shell.execute_reply": "2021-12-13T16:18:32.309087Z",
     "shell.execute_reply.started": "2021-12-13T16:18:32.162378Z"
    },
    "id": "SGQG0c25wR8v",
    "outputId": "10ac5102-7012-45e8-f654-b1f3fe21da40"
   },
   "outputs": [
    {
     "name": "stdout",
     "output_type": "stream",
     "text": [
      "(18521, 300)\n"
     ]
    }
   ],
   "source": [
    "train_embedding_weights = np.zeros((len(train_word_index)+1, EMBEDDING_DIM))\n",
    "for word,index in train_word_index.items():\n",
    "    train_embedding_weights[index,:] = word2vec[word] if word in word2vec else np.random.rand(EMBEDDING_DIM)\n",
    "print(train_embedding_weights.shape)"
   ]
  },
  {
   "cell_type": "code",
   "execution_count": 25,
   "metadata": {
    "execution": {
     "iopub.execute_input": "2021-12-13T16:18:32.311753Z",
     "iopub.status.busy": "2021-12-13T16:18:32.311468Z",
     "iopub.status.idle": "2021-12-13T16:18:32.36053Z",
     "shell.execute_reply": "2021-12-13T16:18:32.359727Z",
     "shell.execute_reply.started": "2021-12-13T16:18:32.311717Z"
    },
    "id": "CYbePZgLwR8v"
   },
   "outputs": [],
   "source": [
    "test_sequences = tokenizer.texts_to_sequences(data_test[\"tweets\"].tolist())\n",
    "test_cnn_data = pad_sequences(test_sequences, maxlen=MAX_SEQUENCE_LENGTH)"
   ]
  },
  {
   "cell_type": "markdown",
   "metadata": {
    "id": "lg-JSWBiwR8v"
   },
   "source": [
    "# Define CNN"
   ]
  },
  {
   "cell_type": "code",
   "execution_count": 26,
   "metadata": {
    "execution": {
     "iopub.execute_input": "2021-12-13T16:30:43.523573Z",
     "iopub.status.busy": "2021-12-13T16:30:43.52275Z",
     "iopub.status.idle": "2021-12-13T16:30:43.533874Z",
     "shell.execute_reply": "2021-12-13T16:30:43.533017Z",
     "shell.execute_reply.started": "2021-12-13T16:30:43.523523Z"
    },
    "id": "GFNBfSqLwR8w"
   },
   "outputs": [],
   "source": [
    "def ConvNet(embeddings, max_sequence_length, num_words, embedding_dim, labels_index):\n",
    "    \n",
    "    embedding_layer = Embedding(num_words,\n",
    "                            embedding_dim,\n",
    "                            weights=[embeddings],\n",
    "                            input_length=max_sequence_length,\n",
    "                            trainable=False)\n",
    "    \n",
    "    sequence_input = Input(shape=(max_sequence_length,), dtype='int32')\n",
    "    embedded_sequences = embedding_layer(sequence_input)\n",
    "\n",
    "    convs = []\n",
    "    filter_sizes = [2,3,4,5,6]\n",
    "\n",
    "    for filter_size in filter_sizes:\n",
    "        l_conv = Conv1D(filters=250, kernel_size=filter_size, activation='relu')(embedded_sequences)\n",
    "        l_pool = GlobalMaxPooling1D()(l_conv)\n",
    "        convs.append(l_pool)\n",
    "\n",
    "\n",
    "    l_merge = concatenate(convs, axis=1)\n",
    "\n",
    "    x = Dropout(0.1)(l_merge)  \n",
    "    x = Dense(128, activation='relu')(x)\n",
    "    x = Dropout(0.5)(x)\n",
    "    preds = Dense(labels_index, activation='softmax')(x) # The output layer with 7 output values, one for each class. Activation function is 'softmax' for multi-class classification problem\n",
    "\n",
    "    model = Model(sequence_input, preds)\n",
    "    model.compile(loss='categorical_crossentropy',       # This multi-class classification problem, 'categorical_crossentropy' is used as the loss function\n",
    "                  optimizer='adam',\n",
    "                  metrics=['accuracy'])\n",
    "    return model"
   ]
  },
  {
   "cell_type": "code",
   "execution_count": 27,
   "metadata": {
    "execution": {
     "iopub.execute_input": "2021-12-13T16:30:43.95272Z",
     "iopub.status.busy": "2021-12-13T16:30:43.951863Z",
     "iopub.status.idle": "2021-12-13T16:30:43.957991Z",
     "shell.execute_reply": "2021-12-13T16:30:43.957045Z",
     "shell.execute_reply.started": "2021-12-13T16:30:43.952646Z"
    },
    "id": "1IN9qmaQwR8w"
   },
   "outputs": [],
   "source": [
    "label_names = [0,1,2,3,4,5,6]"
   ]
  },
  {
   "cell_type": "code",
   "execution_count": 28,
   "metadata": {
    "execution": {
     "iopub.execute_input": "2021-12-13T16:30:45.664985Z",
     "iopub.status.busy": "2021-12-13T16:30:45.664346Z",
     "iopub.status.idle": "2021-12-13T16:30:45.671339Z",
     "shell.execute_reply": "2021-12-13T16:30:45.670603Z",
     "shell.execute_reply.started": "2021-12-13T16:30:45.664934Z"
    },
    "id": "B8DZ1criwR8w"
   },
   "outputs": [],
   "source": [
    "y_train = data_train[label_names].values\n",
    "\n",
    "x_train = train_cnn_data\n",
    "y_tr = y_train"
   ]
  },
  {
   "cell_type": "code",
   "execution_count": 29,
   "metadata": {
    "execution": {
     "iopub.execute_input": "2021-12-13T16:30:45.952734Z",
     "iopub.status.busy": "2021-12-13T16:30:45.952484Z",
     "iopub.status.idle": "2021-12-13T16:30:46.056252Z",
     "shell.execute_reply": "2021-12-13T16:30:46.055566Z",
     "shell.execute_reply.started": "2021-12-13T16:30:45.952706Z"
    },
    "id": "lJs2qiH1wR8w"
   },
   "outputs": [],
   "source": [
    "model = ConvNet(train_embedding_weights, MAX_SEQUENCE_LENGTH, len(train_word_index)+1, EMBEDDING_DIM, len(list(label_names)))"
   ]
  },
  {
   "cell_type": "code",
   "execution_count": 30,
   "metadata": {
    "colab": {
     "base_uri": "https://localhost:8080/"
    },
    "execution": {
     "iopub.execute_input": "2021-12-13T16:30:46.488722Z",
     "iopub.status.busy": "2021-12-13T16:30:46.488354Z",
     "iopub.status.idle": "2021-12-13T16:30:46.507066Z",
     "shell.execute_reply": "2021-12-13T16:30:46.506333Z",
     "shell.execute_reply.started": "2021-12-13T16:30:46.488643Z"
    },
    "id": "dLJPGQkGwR8w",
    "outputId": "90d7a7dd-6075-456e-84e6-5fcaf39863bc"
   },
   "outputs": [
    {
     "name": "stdout",
     "output_type": "stream",
     "text": [
      "Model: \"model\"\n",
      "__________________________________________________________________________________________________\n",
      " Layer (type)                   Output Shape         Param #     Connected to                     \n",
      "==================================================================================================\n",
      " input_1 (InputLayer)           [(None, 50)]         0           []                               \n",
      "                                                                                                  \n",
      " embedding (Embedding)          (None, 50, 300)      5556300     ['input_1[0][0]']                \n",
      "                                                                                                  \n",
      " conv1d (Conv1D)                (None, 49, 250)      150250      ['embedding[0][0]']              \n",
      "                                                                                                  \n",
      " conv1d_1 (Conv1D)              (None, 48, 250)      225250      ['embedding[0][0]']              \n",
      "                                                                                                  \n",
      " conv1d_2 (Conv1D)              (None, 47, 250)      300250      ['embedding[0][0]']              \n",
      "                                                                                                  \n",
      " conv1d_3 (Conv1D)              (None, 46, 250)      375250      ['embedding[0][0]']              \n",
      "                                                                                                  \n",
      " conv1d_4 (Conv1D)              (None, 45, 250)      450250      ['embedding[0][0]']              \n",
      "                                                                                                  \n",
      " global_max_pooling1d (GlobalMa  (None, 250)         0           ['conv1d[0][0]']                 \n",
      " xPooling1D)                                                                                      \n",
      "                                                                                                  \n",
      " global_max_pooling1d_1 (Global  (None, 250)         0           ['conv1d_1[0][0]']               \n",
      " MaxPooling1D)                                                                                    \n",
      "                                                                                                  \n",
      " global_max_pooling1d_2 (Global  (None, 250)         0           ['conv1d_2[0][0]']               \n",
      " MaxPooling1D)                                                                                    \n",
      "                                                                                                  \n",
      " global_max_pooling1d_3 (Global  (None, 250)         0           ['conv1d_3[0][0]']               \n",
      " MaxPooling1D)                                                                                    \n",
      "                                                                                                  \n",
      " global_max_pooling1d_4 (Global  (None, 250)         0           ['conv1d_4[0][0]']               \n",
      " MaxPooling1D)                                                                                    \n",
      "                                                                                                  \n",
      " concatenate (Concatenate)      (None, 1250)         0           ['global_max_pooling1d[0][0]',   \n",
      "                                                                  'global_max_pooling1d_1[0][0]', \n",
      "                                                                  'global_max_pooling1d_2[0][0]', \n",
      "                                                                  'global_max_pooling1d_3[0][0]', \n",
      "                                                                  'global_max_pooling1d_4[0][0]'] \n",
      "                                                                                                  \n",
      " dropout (Dropout)              (None, 1250)         0           ['concatenate[0][0]']            \n",
      "                                                                                                  \n",
      " dense (Dense)                  (None, 128)          160128      ['dropout[0][0]']                \n",
      "                                                                                                  \n",
      " dropout_1 (Dropout)            (None, 128)          0           ['dense[0][0]']                  \n",
      "                                                                                                  \n",
      " dense_1 (Dense)                (None, 7)            903         ['dropout_1[0][0]']              \n",
      "                                                                                                  \n",
      "==================================================================================================\n",
      "Total params: 7,218,581\n",
      "Trainable params: 1,662,281\n",
      "Non-trainable params: 5,556,300\n",
      "__________________________________________________________________________________________________\n"
     ]
    }
   ],
   "source": [
    "model.summary()"
   ]
  },
  {
   "cell_type": "markdown",
   "metadata": {
    "id": "nhfgX0vi87wg"
   },
   "source": [
    "### Plotting CNN Model"
   ]
  },
  {
   "cell_type": "code",
   "execution_count": 31,
   "metadata": {
    "colab": {
     "base_uri": "https://localhost:8080/",
     "height": 540
    },
    "execution": {
     "iopub.execute_input": "2021-12-13T16:30:48.857816Z",
     "iopub.status.busy": "2021-12-13T16:30:48.857542Z",
     "iopub.status.idle": "2021-12-13T16:30:49.665402Z",
     "shell.execute_reply": "2021-12-13T16:30:49.664619Z",
     "shell.execute_reply.started": "2021-12-13T16:30:48.857786Z"
    },
    "id": "zSYkVq2ywR8x",
    "outputId": "431d6f98-a507-40fd-e3a4-0846275206d7"
   },
   "outputs": [
    {
     "data": {
      "image/png": "[encoded data removed]",
      "text/plain": [
       "<IPython.core.display.Image object>"
      ]
     },
     "execution_count": 31,
     "metadata": {},
     "output_type": "execute_result"
    }
   ],
   "source": [
    "plot_model(model, show_shapes=True, show_layer_names=True)"
   ]
  },
  {
   "cell_type": "markdown",
   "metadata": {
    "id": "Jl_tHdazwR8x"
   },
   "source": [
    "# Training Model:"
   ]
  },
  {
   "cell_type": "code",
   "execution_count": 32,
   "metadata": {
    "execution": {
     "iopub.execute_input": "2021-12-13T16:30:52.046655Z",
     "iopub.status.busy": "2021-12-13T16:30:52.046215Z",
     "iopub.status.idle": "2021-12-13T16:30:52.054996Z",
     "shell.execute_reply": "2021-12-13T16:30:52.053456Z",
     "shell.execute_reply.started": "2021-12-13T16:30:52.046618Z"
    },
    "id": "ImrzgC5ewR8x"
   },
   "outputs": [],
   "source": [
    "num_epochs = 5\n",
    "batch_size = 64"
   ]
  },
  {
   "cell_type": "code",
   "execution_count": 33,
   "metadata": {
    "colab": {
     "base_uri": "https://localhost:8080/"
    },
    "execution": {
     "iopub.execute_input": "2021-12-13T16:30:52.459136Z",
     "iopub.status.busy": "2021-12-13T16:30:52.458529Z",
     "iopub.status.idle": "2021-12-13T16:30:58.319794Z",
     "shell.execute_reply": "2021-12-13T16:30:58.318956Z",
     "shell.execute_reply.started": "2021-12-13T16:30:52.459096Z"
    },
    "id": "WAeNAxSgwR8x",
    "outputId": "ec14365b-6e49-4be0-8bf3-96ff9a3c1598",
    "scrolled": true
   },
   "outputs": [
    {
     "name": "stdout",
     "output_type": "stream",
     "text": [
      "Epoch 1/5\n",
      "104/104 [==============================] - 9s 53ms/step - loss: 1.8404 - accuracy: 0.2461 - val_loss: 1.5666 - val_accuracy: 0.3624\n",
      "Epoch 2/5\n",
      "104/104 [==============================] - 3s 31ms/step - loss: 1.5066 - accuracy: 0.3850 - val_loss: 1.3429 - val_accuracy: 0.5163\n",
      "Epoch 3/5\n",
      "104/104 [==============================] - 3s 30ms/step - loss: 1.2237 - accuracy: 0.5305 - val_loss: 0.9653 - val_accuracy: 0.6703\n",
      "Epoch 4/5\n",
      "104/104 [==============================] - 3s 31ms/step - loss: 0.9816 - accuracy: 0.6488 - val_loss: 0.8941 - val_accuracy: 0.6744\n",
      "Epoch 5/5\n",
      "104/104 [==============================] - 3s 31ms/step - loss: 0.8616 - accuracy: 0.6864 - val_loss: 0.8809 - val_accuracy: 0.6894\n"
     ]
    }
   ],
   "source": [
    "hist = model.fit(x_train, y_tr, epochs=num_epochs, validation_split=0.1, shuffle=True, batch_size=batch_size)"
   ]
  },
  {
   "cell_type": "code",
   "execution_count": 34,
   "metadata": {
    "colab": {
     "base_uri": "https://localhost:8080/"
    },
    "execution": {
     "iopub.execute_input": "2021-12-13T16:31:03.22162Z",
     "iopub.status.busy": "2021-12-13T16:31:03.220862Z",
     "iopub.status.idle": "2021-12-13T16:31:03.385479Z",
     "shell.execute_reply": "2021-12-13T16:31:03.384817Z",
     "shell.execute_reply.started": "2021-12-13T16:31:03.221583Z"
    },
    "id": "tL8AIkl5wR8x",
    "outputId": "1e0f3865-a265-4645-f240-cd7dc9cd8477"
   },
   "outputs": [
    {
     "name": "stdout",
     "output_type": "stream",
     "text": [
      "2/2 [==============================] - 1s 497ms/step\n"
     ]
    }
   ],
   "source": [
    "predictions = model.predict(test_cnn_data, batch_size=1024, verbose=1)"
   ]
  },
  {
   "cell_type": "code",
   "execution_count": 35,
   "metadata": {
    "execution": {
     "iopub.execute_input": "2021-12-13T16:31:03.570968Z",
     "iopub.status.busy": "2021-12-13T16:31:03.570763Z",
     "iopub.status.idle": "2021-12-13T16:31:03.576105Z",
     "shell.execute_reply": "2021-12-13T16:31:03.574177Z",
     "shell.execute_reply.started": "2021-12-13T16:31:03.570943Z"
    },
    "id": "gOG1YCilwR8x"
   },
   "outputs": [],
   "source": [
    "labels = [0,1,2,3,4,5,6]"
   ]
  },
  {
   "cell_type": "code",
   "execution_count": 36,
   "metadata": {
    "execution": {
     "iopub.execute_input": "2021-12-13T16:31:04.018755Z",
     "iopub.status.busy": "2021-12-13T16:31:04.018487Z",
     "iopub.status.idle": "2021-12-13T16:31:04.032322Z",
     "shell.execute_reply": "2021-12-13T16:31:04.031599Z",
     "shell.execute_reply.started": "2021-12-13T16:31:04.018722Z"
    },
    "id": "FbTIhSeFwR8x"
   },
   "outputs": [],
   "source": [
    "prediction_labels=[]\n",
    "for p in predictions:\n",
    "    prediction_labels.append(labels[np.argmax(p)])"
   ]
  },
  {
   "cell_type": "markdown",
   "metadata": {
    "id": "P9rtYUPn9HWA"
   },
   "source": [
    "### Calculating Accuracy for Test set"
   ]
  },
  {
   "cell_type": "code",
   "execution_count": 37,
   "metadata": {
    "colab": {
     "base_uri": "https://localhost:8080/"
    },
    "execution": {
     "iopub.execute_input": "2021-12-13T16:31:04.741386Z",
     "iopub.status.busy": "2021-12-13T16:31:04.74051Z",
     "iopub.status.idle": "2021-12-13T16:31:04.750473Z",
     "shell.execute_reply": "2021-12-13T16:31:04.749672Z",
     "shell.execute_reply.started": "2021-12-13T16:31:04.741324Z"
    },
    "id": "mmHKvsmmwR8x",
    "outputId": "e9e7c836-0968-49bf-cb64-60b0ce8e3967"
   },
   "outputs": [
    {
     "data": {
      "text/plain": [
       "0.6824877250409165"
      ]
     },
     "execution_count": 37,
     "metadata": {},
     "output_type": "execute_result"
    }
   ],
   "source": [
    "sum(data_test.labels==prediction_labels)/len(prediction_labels)"
   ]
  },
  {
   "cell_type": "markdown",
   "metadata": {
    "id": "ii--7_vH9Tfq"
   },
   "source": [
    "### Plotting Training and Validation Loss"
   ]
  },
  {
   "cell_type": "code",
   "execution_count": 38,
   "metadata": {
    "colab": {
     "base_uri": "https://localhost:8080/",
     "height": 281
    },
    "execution": {
     "iopub.execute_input": "2021-12-13T16:31:07.802641Z",
     "iopub.status.busy": "2021-12-13T16:31:07.801626Z",
     "iopub.status.idle": "2021-12-13T16:31:08.002195Z",
     "shell.execute_reply": "2021-12-13T16:31:08.001523Z",
     "shell.execute_reply.started": "2021-12-13T16:31:07.802587Z"
    },
    "id": "k4v5GR1bwR8y",
    "outputId": "fc05c9a9-c69a-4081-e635-447932651897"
   },
   "outputs": [
    {
     "data": {
      "image/png": "[encoded data removed]",
      "text/plain": [
       "<Figure size 432x288 with 1 Axes>"
      ]
     },
     "metadata": {
      "needs_background": "light"
     },
     "output_type": "display_data"
    }
   ],
   "source": [
    "plt.title('Loss')\n",
    "plt.plot(hist.history['loss'], label='train')\n",
    "plt.plot(hist.history['val_loss'], label='validation')\n",
    "plt.legend()\n",
    "plt.show();"
   ]
  },
  {
   "cell_type": "markdown",
   "metadata": {
    "id": "W4FV57y49VNz"
   },
   "source": [
    "### Plotting Training and Validation Accuracy"
   ]
  },
  {
   "cell_type": "code",
   "execution_count": 39,
   "metadata": {
    "colab": {
     "base_uri": "https://localhost:8080/",
     "height": 281
    },
    "execution": {
     "iopub.execute_input": "2021-12-13T16:31:08.324099Z",
     "iopub.status.busy": "2021-12-13T16:31:08.323829Z",
     "iopub.status.idle": "2021-12-13T16:31:08.524193Z",
     "shell.execute_reply": "2021-12-13T16:31:08.523503Z",
     "shell.execute_reply.started": "2021-12-13T16:31:08.324069Z"
    },
    "id": "bF70L9POwR8y",
    "outputId": "92679f9a-4f05-4850-c7e4-362387144714"
   },
   "outputs": [
    {
     "data": {
      "image/png": "[encoded data removed]",
      "text/plain": [
       "<Figure size 432x288 with 1 Axes>"
      ]
     },
     "metadata": {
      "needs_background": "light"
     },
     "output_type": "display_data"
    }
   ],
   "source": [
    "plt.title('Accuracy')\n",
    "plt.plot(hist.history['accuracy'], label='train')\n",
    "plt.plot(hist.history['val_accuracy'], label='validation')\n",
    "plt.legend()\n",
    "plt.show();"
   ]
  },
  {
   "cell_type": "code",
   "execution_count": 39,
   "metadata": {
    "id": "cFANkzXawR8y"
   },
   "outputs": [],
   "source": []
  }
 ],
 "metadata": {
  "accelerator": "GPU",
  "colab": {
   "collapsed_sections": [],
   "name": "CNN Model.ipynb",
   "provenance": []
  },
  "kernelspec": {
   "display_name": "Python 3.9.13 64-bit",
   "language": "python",
   "name": "python3"
  },
  "language_info": {
   "codemirror_mode": {
    "name": "ipython",
    "version": 3
   },
   "file_extension": ".py",
   "mimetype": "text/x-python",
   "name": "python",
   "nbconvert_exporter": "python",
   "pygments_lexer": "ipython3",
   "version": "3.9.13"
  },
  "vscode": {
   "interpreter": {
    "hash": "aee8b7b246df8f9039afb4144a1f6fd8d2ca17a180786b69acc140d282b71a49"
   }
  }
 },
 "nbformat": 4,
 "nbformat_minor": 1
}
